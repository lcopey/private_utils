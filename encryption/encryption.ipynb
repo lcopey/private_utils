{
 "cells": [
  {
   "cell_type": "markdown",
   "id": "4d388666",
   "metadata": {},
   "source": [
    "# AES"
   ]
  },
  {
   "cell_type": "code",
   "execution_count": 3,
   "id": "4982ba6d",
   "metadata": {},
   "outputs": [],
   "source": [
    "from cryptography.fernet import Fernet"
   ]
  },
  {
   "cell_type": "code",
   "execution_count": 4,
   "id": "0d6d876e",
   "metadata": {},
   "outputs": [
    {
     "name": "stdout",
     "output_type": "stream",
     "text": [
      "b'gAAAAABjuIVRPYIwvxwvYICyrp1p-WfYsVXE8lPVn6Iy-N2y9uhgaAAub_-5KZnpzSSjr_b8akgRCLE0qJe46PrEaqTyqNXH2A=='\n"
     ]
    }
   ],
   "source": [
    "data = \"Hello, world!\"\n",
    "\n",
    "# Generate a key\n",
    "key = Fernet.generate_key()\n",
    "\n",
    "# Create a cipher object\n",
    "cipher = Fernet(key)\n",
    "\n",
    "# Encrypt the data\n",
    "encrypted_data = cipher.encrypt(data.encode())\n",
    "\n",
    "print(encrypted_data)"
   ]
  },
  {
   "cell_type": "code",
   "execution_count": 5,
   "id": "5cc4e797",
   "metadata": {},
   "outputs": [
    {
     "data": {
      "text/plain": [
       "b'Hello, world!'"
      ]
     },
     "execution_count": 5,
     "metadata": {},
     "output_type": "execute_result"
    }
   ],
   "source": [
    "cipher.decrypt(encrypted_data)"
   ]
  },
  {
   "cell_type": "markdown",
   "id": "d5f968b8",
   "metadata": {},
   "source": [
    "# RSA"
   ]
  },
  {
   "cell_type": "code",
   "execution_count": 26,
   "id": "f2a4c927",
   "metadata": {},
   "outputs": [],
   "source": [
    "from cryptography.hazmat.primitives.asymmetric import rsa, padding\n",
    "from cryptography.hazmat.primitives import hashes\n",
    "from cryptography.hazmat.primitives.serialization import Encoding, PublicFormat, load_pem_public_key\n",
    "\n",
    "# Generate a private key\n",
    "# it will be used to decrypt received data\n",
    "private_key = rsa.generate_private_key(\n",
    "    public_exponent=65537,\n",
    "    key_size=2048\n",
    ")\n",
    "\n",
    "# Extract the public key\n",
    "# it will be used to encrypt some data\n",
    "public_key = private_key.public_key()\n",
    "\n",
    "# Serialize the public key\n",
    "public_key_bytes = public_key.public_bytes(\n",
    "    encoding=Encoding.PEM,\n",
    "    format=PublicFormat.SubjectPublicKeyInfo\n",
    ")\n",
    "# send over"
   ]
  },
  {
   "cell_type": "code",
   "execution_count": 27,
   "id": "db6d24b2",
   "metadata": {},
   "outputs": [],
   "source": [
    "public_key = load_pem_public_key(public_key_bytes)"
   ]
  },
  {
   "cell_type": "code",
   "execution_count": null,
   "id": "866cd2cd",
   "metadata": {},
   "outputs": [],
   "source": []
  },
  {
   "cell_type": "code",
   "execution_count": 28,
   "id": "a8ab27c4",
   "metadata": {},
   "outputs": [],
   "source": [
    "message = b\"encrypted data\"\n",
    "\n",
    "ciphertext = public_key.encrypt(\n",
    "\n",
    "    message,\n",
    "\n",
    "    padding.OAEP(\n",
    "\n",
    "        mgf=padding.MGF1(algorithm=hashes.SHA256()),\n",
    "\n",
    "        algorithm=hashes.SHA256(),\n",
    "\n",
    "        label=None\n",
    "\n",
    "    )\n",
    "\n",
    ")"
   ]
  },
  {
   "cell_type": "code",
   "execution_count": 30,
   "id": "4c4b6a6d",
   "metadata": {},
   "outputs": [],
   "source": [
    "plaintext = private_key.decrypt(\n",
    "\n",
    "    ciphertext,\n",
    "\n",
    "    padding.OAEP(\n",
    "\n",
    "        mgf=padding.MGF1(algorithm=hashes.SHA256()),\n",
    "\n",
    "        algorithm=hashes.SHA256(),\n",
    "\n",
    "        label=None\n",
    "\n",
    "    )\n",
    "\n",
    ")"
   ]
  },
  {
   "cell_type": "code",
   "execution_count": 31,
   "id": "99af4eed",
   "metadata": {},
   "outputs": [
    {
     "data": {
      "text/plain": [
       "b'encrypted data'"
      ]
     },
     "execution_count": 31,
     "metadata": {},
     "output_type": "execute_result"
    }
   ],
   "source": [
    "plaintext"
   ]
  },
  {
   "cell_type": "code",
   "execution_count": null,
   "id": "61c72107",
   "metadata": {},
   "outputs": [],
   "source": []
  }
 ],
 "metadata": {
  "kernelspec": {
   "display_name": "Python 3 (ipykernel)",
   "language": "python",
   "name": "python3"
  },
  "language_info": {
   "codemirror_mode": {
    "name": "ipython",
    "version": 3
   },
   "file_extension": ".py",
   "mimetype": "text/x-python",
   "name": "python",
   "nbconvert_exporter": "python",
   "pygments_lexer": "ipython3",
   "version": "3.10.8"
  }
 },
 "nbformat": 4,
 "nbformat_minor": 5
}
