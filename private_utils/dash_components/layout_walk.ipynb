{
 "cells": [
  {
   "cell_type": "code",
   "execution_count": 29,
   "id": "48f984d8",
   "metadata": {},
   "outputs": [],
   "source": [
    "class Mother:\n",
    "    def __init__(self, value):\n",
    "        self._value = value\n",
    "        \n",
    "    @property\n",
    "    def value(self):\n",
    "        return self._value\n",
    "    \n",
    "    @value.setter\n",
    "    def value(self, value):\n",
    "        print('Set value')\n",
    "        self._value = value"
   ]
  },
  {
   "cell_type": "code",
   "execution_count": 30,
   "id": "cb1a64b3",
   "metadata": {},
   "outputs": [],
   "source": [
    "class Child(Mother):\n",
    "    def __init__(self, value):\n",
    "        super().__init__(value)\n",
    "        \n",
    "    @Mother.value.setter\n",
    "    def value(self, value):\n",
    "        print('New setter')\n",
    "        Mother.value.fset(self, value)"
   ]
  },
  {
   "cell_type": "code",
   "execution_count": 31,
   "id": "c3db3c12",
   "metadata": {},
   "outputs": [],
   "source": [
    "child = Child(1)"
   ]
  },
  {
   "cell_type": "code",
   "execution_count": 32,
   "id": "7db07836",
   "metadata": {},
   "outputs": [
    {
     "name": "stdout",
     "output_type": "stream",
     "text": [
      "New setter\n",
      "Set value\n"
     ]
    }
   ],
   "source": [
    "child.value = 2"
   ]
  },
  {
   "cell_type": "code",
   "execution_count": 33,
   "id": "998c20a3",
   "metadata": {},
   "outputs": [
    {
     "data": {
      "text/plain": [
       "2"
      ]
     },
     "execution_count": 33,
     "metadata": {},
     "output_type": "execute_result"
    }
   ],
   "source": [
    "child.value"
   ]
  },
  {
   "cell_type": "code",
   "execution_count": 1,
   "id": "9bf8cdf7",
   "metadata": {},
   "outputs": [],
   "source": [
    "from dash.html import Div, Button, Label\n",
    "from base import BaseComponent\n",
    "from typing import Iterable"
   ]
  },
  {
   "cell_type": "code",
   "execution_count": 2,
   "id": "7c8d2f2f",
   "metadata": {},
   "outputs": [],
   "source": [
    "from components import CustomButton"
   ]
  },
  {
   "cell_type": "code",
   "execution_count": 4,
   "id": "ede64488",
   "metadata": {},
   "outputs": [],
   "source": [
    "custom_button_1 = CustomButton(1, label='Clicked {}')\n",
    "custom_button_2 = CustomButton(2, label='Clicked {}')\n",
    "layout = Div([custom_button_1,\n",
    "                       custom_button_2])"
   ]
  },
  {
   "cell_type": "code",
   "execution_count": 5,
   "id": "a8965d35",
   "metadata": {},
   "outputs": [],
   "source": [
    "def _parse_component(item):\n",
    "    children = getattr(item, 'children', None)\n",
    "    if children and (isinstance(children, Iterable) and not isinstance(children, str)):\n",
    "        item.children = [_parse_layout(child) for child in children]\n",
    "        return item\n",
    "\n",
    "    return item\n",
    "\n",
    "\n",
    "def _parse_custom_component(item: BaseComponent):\n",
    "    return _parse_layout(item.layout())\n",
    "\n",
    "\n",
    "def _parse_layout_iterable(items: Iterable):\n",
    "    return [_parse_layout(child) for child in items]\n",
    "\n",
    "\n",
    "def _parse_layout(layout):\n",
    "    if isinstance(layout, BaseComponent):\n",
    "        func = _parse_custom_component\n",
    "    elif isinstance(layout, (list, tuple)):\n",
    "        func = _parse_layout_iterable\n",
    "    else:\n",
    "        func = _parse_component\n",
    "\n",
    "    return func(layout)"
   ]
  },
  {
   "cell_type": "code",
   "execution_count": 7,
   "id": "425e4552",
   "metadata": {},
   "outputs": [],
   "source": [
    "from pprint import pprint"
   ]
  },
  {
   "cell_type": "code",
   "execution_count": 9,
   "id": "ce4dfc41",
   "metadata": {},
   "outputs": [
    {
     "data": {
      "text/plain": [
       "Div([Div([Button(children='Click me', id='1_button', n_clicks=0), Div(children='Clicked {}', id='1_label_control')]), Div([Button(children='Click me', id='2_button', n_clicks=0), Div(children='Clicked {}', id='2_label_control')])])"
      ]
     },
     "execution_count": 9,
     "metadata": {},
     "output_type": "execute_result"
    }
   ],
   "source": [
    "_parse_layout(layout)"
   ]
  },
  {
   "cell_type": "code",
   "execution_count": null,
   "id": "7cce8533",
   "metadata": {},
   "outputs": [],
   "source": [
    "Div(\n",
    "    [Div([Button(children='Click me', id='1_button', n_clicks=0), \n",
    "          Div(children='Clicked {}', id='1_label_control')]),\n",
    "     Div([Button(children='Click me', id='2_button', n_clicks=0), \n",
    "          Div(children='Clicked {}', id='2_label_control')])\n",
    "    ])"
   ]
  }
 ],
 "metadata": {
  "kernelspec": {
   "display_name": "Python 3 (ipykernel)",
   "language": "python",
   "name": "python3"
  },
  "language_info": {
   "codemirror_mode": {
    "name": "ipython",
    "version": 3
   },
   "file_extension": ".py",
   "mimetype": "text/x-python",
   "name": "python",
   "nbconvert_exporter": "python",
   "pygments_lexer": "ipython3",
   "version": "3.10.8"
  }
 },
 "nbformat": 4,
 "nbformat_minor": 5
}
