{
 "cells": [
  {
   "cell_type": "code",
   "execution_count": 83,
   "id": "455b8766",
   "metadata": {},
   "outputs": [],
   "source": [
    "from collections import defaultdict\n",
    "from typing import Iterable, Callable\n",
    "\n",
    "def _is_iterable(arg):\n",
    "    if not isinstance(arg, Iterable) or isinstance(arg, str):\n",
    "        return (arg,)\n",
    "    return arg\n",
    "\n",
    "class PipelineItem:        \n",
    "    def __init__(self, inputs, outputs, fun):\n",
    "        self.inputs = _is_iterable(inputs)\n",
    "        self.outputs = _is_iterable(outputs)\n",
    "        self.fun = fun\n",
    "        self.priority = 0\n",
    "        # self.id = id(fun)\n",
    "        self.id = fun.__name__\n",
    "        \n",
    "    def __repr__(self):\n",
    "        return f'{self.priority}: {self.inputs} -- {self.fun} --> {self.outputs}'"
   ]
  },
  {
   "cell_type": "code",
   "execution_count": 121,
   "id": "28cfba63",
   "metadata": {},
   "outputs": [],
   "source": [
    "from collections import defaultdict\n",
    "\n",
    "class Pipeline:\n",
    "    def __init__(self):\n",
    "        self.items = {}\n",
    "        self._function_per_outputs = defaultdict(list)\n",
    "        self._function_per_inputs = defaultdict(list)\n",
    "    \n",
    "    def __repr__(self):\n",
    "        return '\\n'.join([item.__repr__() for item in self.items.values()])\n",
    "    \n",
    "    def _predecessors(self, item_id):\n",
    "        # return item connected to the inputs (means input of item found in outputs)\n",
    "        item = self.items[item_id]\n",
    "        predecessors = []\n",
    "        for input in item.inputs:\n",
    "            predecessors.extend(self._function_per_outputs[input])\n",
    "        \n",
    "        return predecessors\n",
    "    \n",
    "    def _successors(self, item_id):\n",
    "        # return item connected to the outputs (means output of item found in the inputs)\n",
    "        item = self.items[item_id]\n",
    "        successors = []\n",
    "        for output in item.outputs:\n",
    "            successors.extend(self._function_per_inputs[output])\n",
    "            \n",
    "        return successors\n",
    "\n",
    "    def _adjust_ranking(self, item_id, priority, mode='forward'):\n",
    "        self.items[item_id].priority = priority\n",
    "        func = self._successors if mode == 'forward' else self._predecessors\n",
    "        offset = 1 if mode == 'forward' else -1\n",
    "\n",
    "        for neighbor_id in func(item_id):\n",
    "            self._adjust_ranking(neighbor_id, priority + offset, mode=mode)\n",
    "\n",
    "    def _sort(self):      \n",
    "        for item_id in self.items.keys():\n",
    "            current_priority = self.items[item_id].priority\n",
    "            self._adjust_ranking(item_id, current_priority, mode='forward')\n",
    "            self._adjust_ranking(item_id, current_priority, mode='backward')\n",
    "\n",
    "        rank = list(self.items.items())\n",
    "        rank.sort(key=lambda x: x[1].priority)\n",
    "        self.items = dict(rank)\n",
    "        \n",
    "        \n",
    "    def _register_internals(self, item):\n",
    "        item_id = item.id\n",
    "        self.items[item_id] = item\n",
    "\n",
    "        for input in item.inputs:\n",
    "            self._function_per_inputs[input].append(item_id)\n",
    "            \n",
    "        for output in item.outputs:\n",
    "            self._function_per_outputs[output].append(item_id)\n",
    "        \n",
    "    def register(self, inputs: Iterable, outputs: Iterable):\n",
    "        def inner(fun):\n",
    "            item = PipelineItem(inputs=inputs, outputs=outputs, fun=fun)\n",
    "            print(f'Registering {item}')\n",
    "            self._register_internals(item)\n",
    "            self._sort()\n",
    "            print()\n",
    "            \n",
    "            return fun\n",
    "\n",
    "        return inner\n",
    "    \n",
    "    def execute(self, start={'A'}):\n",
    "        values_so_far = start\n",
    "        print(f'Start with {values_so_far}')\n",
    "        for item_id, item in self.items.items():\n",
    "            missing_values = [input for input in item.inputs if input not in values_so_far]\n",
    "            \n",
    "            print(item)\n",
    "            if not missing_values:\n",
    "                values_so_far = values_so_far.union(item.outputs)\n",
    "            else:\n",
    "                print(f'{missing_values} are missing')\n",
    "                raise "
   ]
  },
  {
   "cell_type": "code",
   "execution_count": 122,
   "id": "ffb3bbf9",
   "metadata": {},
   "outputs": [
    {
     "name": "stdout",
     "output_type": "stream",
     "text": [
      "Registering 0: ('D',) -- <function aze at 0x0000018971633250> --> ('G',)\n",
      "\n",
      "Registering 0: ('A',) -- <function foo at 0x0000018971772B00> --> ('B',)\n",
      "\n",
      "Registering 0: ('B', 'C') -- <function clk at 0x0000018971772C20> --> ('E',)\n",
      "\n",
      "Registering 0: ('B',) -- <function fun at 0x0000018971772B90> --> ('D',)\n",
      "\n",
      "Registering 0: ('A',) -- <function bar at 0x0000018971772CB0> --> ('C',)\n",
      "\n"
     ]
    }
   ],
   "source": [
    "pipeline = Pipeline()\n",
    "\n",
    "@pipeline.register(inputs='D', outputs='G')\n",
    "def aze():\n",
    "    pass\n",
    "\n",
    "@pipeline.register(inputs='A', outputs='B')\n",
    "def foo():\n",
    "    pass\n",
    "\n",
    "@pipeline.register(inputs=('B', 'C'), outputs='E')\n",
    "def clk():\n",
    "    pass\n",
    "\n",
    "@pipeline.register(inputs='B', outputs='D')\n",
    "def fun():\n",
    "    pass\n",
    "\n",
    "\n",
    "@pipeline.register(inputs=('A',), outputs='C')\n",
    "def bar():\n",
    "    pass"
   ]
  },
  {
   "cell_type": "code",
   "execution_count": 123,
   "id": "5373b0b2",
   "metadata": {},
   "outputs": [
    {
     "data": {
      "text/plain": [
       "-2: ('A',) -- <function foo at 0x0000018971772B00> --> ('B',)\n",
       "-2: ('A',) -- <function bar at 0x0000018971772CB0> --> ('C',)\n",
       "-1: ('B', 'C') -- <function clk at 0x0000018971772C20> --> ('E',)\n",
       "-1: ('B',) -- <function fun at 0x0000018971772B90> --> ('D',)\n",
       "0: ('D',) -- <function aze at 0x0000018971633250> --> ('G',)"
      ]
     },
     "execution_count": 123,
     "metadata": {},
     "output_type": "execute_result"
    }
   ],
   "source": [
    "pipeline"
   ]
  },
  {
   "cell_type": "code",
   "execution_count": 124,
   "id": "e4dd360d",
   "metadata": {},
   "outputs": [
    {
     "name": "stdout",
     "output_type": "stream",
     "text": [
      "Start with {'A'}\n",
      "-2: ('A',) -- <function foo at 0x0000018971772B00> --> ('B',)\n",
      "-2: ('A',) -- <function bar at 0x0000018971772CB0> --> ('C',)\n",
      "-1: ('B', 'C') -- <function clk at 0x0000018971772C20> --> ('E',)\n",
      "-1: ('B',) -- <function fun at 0x0000018971772B90> --> ('D',)\n",
      "0: ('D',) -- <function aze at 0x0000018971633250> --> ('G',)\n"
     ]
    }
   ],
   "source": [
    "pipeline.execute()"
   ]
  },
  {
   "cell_type": "code",
   "execution_count": 85,
   "id": "6ee1289a",
   "metadata": {},
   "outputs": [
    {
     "name": "stdout",
     "output_type": "stream",
     "text": [
      "Registering 0: ('A',) -- <function foo at 0x00000189715CC4C0> --> ('B',)\n",
      "foo False\n",
      "Registering 0: ('A',) -- <function bar at 0x00000189715CE710> --> ('C',)\n",
      "foo False\n",
      "bar False\n",
      "Registering 0: ('B', 'C') -- <function clk at 0x00000189715CE680> --> ('E',)\n",
      "foo False\n",
      "bar False\n",
      "clk True\n",
      "Registering 0: ('B',) -- <function fun at 0x00000189715CF250> --> ('D',)\n",
      "foo False\n",
      "bar False\n",
      "clk True\n",
      "fun True\n",
      "Registering 0: ('D',) -- <function aze at 0x00000189715CF2E0> --> ('G',)\n",
      "foo False\n",
      "bar False\n",
      "clk True\n",
      "fun True\n",
      "aze True\n"
     ]
    }
   ],
   "source": [
    "pipeline = Pipeline()\n",
    "\n",
    "@pipeline.register(inputs='A', outputs='B')\n",
    "def foo():\n",
    "    pass\n",
    "\n",
    "@pipeline.register(inputs=('A',), outputs='C')\n",
    "def bar():\n",
    "    pass\n",
    "\n",
    "@pipeline.register(inputs=('B', 'C'), outputs='E')\n",
    "def clk():\n",
    "    pass\n",
    "\n",
    "@pipeline.register(inputs='B', outputs='D')\n",
    "def fun():\n",
    "    pass\n",
    "\n",
    "@pipeline.register(inputs='D', outputs='G')\n",
    "def aze():\n",
    "    pass"
   ]
  },
  {
   "cell_type": "code",
   "execution_count": 86,
   "id": "d7ca819b",
   "metadata": {},
   "outputs": [
    {
     "data": {
      "text/plain": [
       "0: ('A',) -- <function foo at 0x00000189715CC4C0> --> ('B',)\n",
       "0: ('A',) -- <function bar at 0x00000189715CE710> --> ('C',)\n",
       "1: ('B', 'C') -- <function clk at 0x00000189715CE680> --> ('E',)\n",
       "1: ('B',) -- <function fun at 0x00000189715CF250> --> ('D',)\n",
       "2: ('D',) -- <function aze at 0x00000189715CF2E0> --> ('G',)"
      ]
     },
     "execution_count": 86,
     "metadata": {},
     "output_type": "execute_result"
    }
   ],
   "source": [
    "pipeline"
   ]
  },
  {
   "cell_type": "code",
   "execution_count": 74,
   "id": "80702098",
   "metadata": {},
   "outputs": [
    {
     "name": "stdout",
     "output_type": "stream",
     "text": [
      "Start with {'A'}\n",
      "0, ('A',) -- <function foo at 0x00000189714F9FC0> --> ('B',)\n",
      "0, ('A',) -- <function bar at 0x00000189715CC670> --> ('C',)\n",
      "1, ('B', 'C') -- <function clk at 0x00000189714FADD0> --> ('E',)\n",
      "1, ('B',) -- <function fun at 0x00000189715CC430> --> ('D',)\n",
      "2, ('D',) -- <function aze at 0x00000189715CC040> --> ('G',)\n"
     ]
    }
   ],
   "source": [
    "pipeline.execute()"
   ]
  },
  {
   "cell_type": "markdown",
   "id": "48606b4e",
   "metadata": {},
   "source": [
    "# test"
   ]
  },
  {
   "cell_type": "code",
   "execution_count": 136,
   "id": "ac1b0895",
   "metadata": {},
   "outputs": [
    {
     "name": "stdout",
     "output_type": "stream",
     "text": [
      "Registering 0: ('A',) -- <function foo at 0x0000018971632A70> --> ('B',)\n",
      "\n",
      "Registering 0: ('A',) -- <function bar at 0x0000018971773400> --> ('C',)\n",
      "\n",
      "Registering 0: ('B',) -- <function fun at 0x0000018971772D40> --> ('D',)\n",
      "\n",
      "Registering 0: ('D',) -- <function aze at 0x00000189717732E0> --> ('G',)\n",
      "\n",
      "Registering 0: ('B', 'C') -- <function clk at 0x0000018971770940> --> ('E',)\n",
      "\n",
      "Start with {'A'}\n",
      "0: ('A',) -- <function foo at 0x0000018971632A70> --> ('B',)\n",
      "0: ('A',) -- <function bar at 0x0000018971773400> --> ('C',)\n",
      "1: ('B',) -- <function fun at 0x0000018971772D40> --> ('D',)\n",
      "1: ('B', 'C') -- <function clk at 0x0000018971770940> --> ('E',)\n",
      "2: ('D',) -- <function aze at 0x00000189717732E0> --> ('G',)\n"
     ]
    }
   ],
   "source": [
    "import random\n",
    "\n",
    "\n",
    "pipeline = Pipeline()\n",
    "\n",
    "def foo():\n",
    "    pass\n",
    "\n",
    "def bar():\n",
    "    pass\n",
    "\n",
    "def clk():\n",
    "    pass\n",
    "\n",
    "def fun():\n",
    "    pass\n",
    "\n",
    "def aze():\n",
    "    pass\n",
    "\n",
    "register_collection = [(pipeline.register(inputs='A', outputs='B'), foo),\n",
    "                       (pipeline.register(inputs=('A',), outputs='C'), bar),\n",
    "                       (pipeline.register(inputs=('B', 'C'), outputs='E'), clk),\n",
    "                       (pipeline.register(inputs='B', outputs='D'), fun),\n",
    "                       (pipeline.register(inputs='D', outputs='G'), aze)]\n",
    "\n",
    "random.shuffle(register_collection)\n",
    "for item in register_collection:\n",
    "    item[0](item[1])\n",
    "\n",
    "pipeline.execute()"
   ]
  },
  {
   "cell_type": "code",
   "execution_count": 62,
   "id": "1ad15e9e",
   "metadata": {},
   "outputs": [
    {
     "data": {
      "text/plain": [
       "-1, ('A',) -- <function foo at 0x00000189714311B0> --> ('B',)\n",
       "0, ('B', 'C') -- <function clk at 0x00000189714FA560> --> ('E',)\n",
       "0, ('A',) -- <function bar at 0x00000189714F92D0> --> ('C',)\n",
       "0, ('B',) -- <function fun at 0x00000189714FB010> --> ('D',)\n",
       "1, ('D',) -- <function aze at 0x00000189714FB0A0> --> ('G',)"
      ]
     },
     "execution_count": 62,
     "metadata": {},
     "output_type": "execute_result"
    }
   ],
   "source": [
    "pipeline"
   ]
  },
  {
   "cell_type": "code",
   "execution_count": 63,
   "id": "c0946d54",
   "metadata": {},
   "outputs": [
    {
     "name": "stdout",
     "output_type": "stream",
     "text": [
      "1689822368176\n",
      "1689823192416\n",
      "1689823195152\n",
      "1689823195296\n",
      "1689822368176\n",
      "1689823187664\n",
      "1689823187664\n"
     ]
    }
   ],
   "source": [
    "def adjust_neighbors(item_id, current_priority=0, mode='forward'):\n",
    "    pipeline.items[item_id].priority = current_priority\n",
    "    func = pipeline._successors if mode == 'forward' else pipeline._predecessors\n",
    "    offset = 1 if mode == 'forward' else -1\n",
    "        \n",
    "    walked[item_id] = True\n",
    "    print(item_id)\n",
    "    for neighbor_id in func(item_id):\n",
    "        if not walked[neighbor_id]:\n",
    "            adjust_neighbors(neighbor_id, current_priority + offset, mode=mode)\n",
    "\n",
    "        \n",
    "walked = dict(zip(pipeline.items.keys(), [False]*len(pipeline.items)))        \n",
    "for item_id, walk in walked.items():\n",
    "    if not walk:\n",
    "        current_priority = pipeline.items[item_id].priority\n",
    "        adjust_neighbors(item_id, current_priority, mode='forward')\n",
    "        adjust_neighbors(item_id, current_priority, mode='backward')"
   ]
  },
  {
   "cell_type": "code",
   "execution_count": 64,
   "id": "67b6604b",
   "metadata": {},
   "outputs": [
    {
     "data": {
      "text/plain": [
       "-1, ('A',) -- <function foo at 0x00000189714311B0> --> ('B',)\n",
       "0, ('B', 'C') -- <function clk at 0x00000189714FA560> --> ('E',)\n",
       "0, ('A',) -- <function bar at 0x00000189714F92D0> --> ('C',)\n",
       "0, ('B',) -- <function fun at 0x00000189714FB010> --> ('D',)\n",
       "1, ('D',) -- <function aze at 0x00000189714FB0A0> --> ('G',)"
      ]
     },
     "execution_count": 64,
     "metadata": {},
     "output_type": "execute_result"
    }
   ],
   "source": [
    "pipeline"
   ]
  },
  {
   "cell_type": "code",
   "execution_count": 30,
   "id": "d361035b",
   "metadata": {},
   "outputs": [],
   "source": [
    "rank = list(pipeline.items.items())\n",
    "rank.sort(key=lambda x: x[1].priority)"
   ]
  },
  {
   "cell_type": "code",
   "execution_count": 32,
   "id": "10185d36",
   "metadata": {},
   "outputs": [
    {
     "data": {
      "text/plain": [
       "{1689787446560: 0, ('A',) -- <function bar at 0x000001896F2E3520> --> ('C',),\n",
       " 1689787437776: 0, ('A',) -- <function foo at 0x000001896F2E12D0> --> ('B',),\n",
       " 1689787445264: 1, ('B',) -- <function fun at 0x000001896F2E3010> --> ('D',),\n",
       " 1689787441664: 1, ('B', 'C') -- <function clk at 0x000001896F2E2200> --> ('E',),\n",
       " 1689787448000: 2, ('D',) -- <function aze at 0x000001896F2E3AC0> --> ('G',)}"
      ]
     },
     "execution_count": 32,
     "metadata": {},
     "output_type": "execute_result"
    }
   ],
   "source": [
    "dict(rank)"
   ]
  },
  {
   "cell_type": "code",
   "execution_count": null,
   "id": "0e4af01b",
   "metadata": {},
   "outputs": [],
   "source": []
  },
  {
   "cell_type": "code",
   "execution_count": null,
   "id": "5b1bf3e9",
   "metadata": {},
   "outputs": [],
   "source": [
    "ranks = dict(zip(pipeline.items.keys(), [0]*len(pipeline.items)))\n",
    "for key, rank in ranks.items():\n",
    "    current_priority = pipeline.items[key].priority\n",
    "    for predecessor in pipeline._predecessors(key):\n",
    "        pipeline.items[predecessor].priority = current_priority - 1\n",
    "    for successor in pipeline._successors(key):\n",
    "        pipeline.items[successor].priority = current_priority + 1"
   ]
  }
 ],
 "metadata": {
  "kernelspec": {
   "display_name": "Python 3 (ipykernel)",
   "language": "python",
   "name": "python3"
  },
  "language_info": {
   "codemirror_mode": {
    "name": "ipython",
    "version": 3
   },
   "file_extension": ".py",
   "mimetype": "text/x-python",
   "name": "python",
   "nbconvert_exporter": "python",
   "pygments_lexer": "ipython3",
   "version": "3.10.6"
  }
 },
 "nbformat": 4,
 "nbformat_minor": 5
}
