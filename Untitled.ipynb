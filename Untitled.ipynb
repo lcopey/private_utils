{
 "cells": [
  {
   "cell_type": "code",
   "execution_count": 18,
   "id": "654e7f06",
   "metadata": {},
   "outputs": [],
   "source": [
    "from collections import namedtuple"
   ]
  },
  {
   "cell_type": "code",
   "execution_count": 20,
   "id": "2e8eceff",
   "metadata": {},
   "outputs": [
    {
     "data": {
      "text/plain": [
       "__main__.result"
      ]
     },
     "execution_count": 20,
     "metadata": {},
     "output_type": "execute_result"
    }
   ],
   "source": [
    "namedtuple('result', ('main_page_main_table_table.columns_output'.replace('.', '_'),))"
   ]
  },
  {
   "cell_type": "code",
   "execution_count": null,
   "id": "fdc587d0",
   "metadata": {},
   "outputs": [],
   "source": []
  },
  {
   "cell_type": "code",
   "execution_count": 1,
   "id": "cb1393ed",
   "metadata": {},
   "outputs": [],
   "source": [
    "from dash import Input, Output, State, no_update"
   ]
  },
  {
   "cell_type": "code",
   "execution_count": 2,
   "id": "0ed40167",
   "metadata": {},
   "outputs": [],
   "source": [
    "callback_signature_1 = (Output('table', 'columns'),\n",
    "                   Output('columns_order', 'data'),\n",
    "                   Output('duplicate_dropdown', 'options'),\n",
    "                   Output('columns_created', 'data'),\n",
    "                   Output('table', 'data'),\n",
    "                   Input('add_column_button', 'n_clicks'),\n",
    "                   State('table', 'columns'),\n",
    "                   State('columns_order', 'data'),\n",
    "                   State('columns_created', 'data'))"
   ]
  },
  {
   "cell_type": "code",
   "execution_count": 3,
   "id": "2c81adbb",
   "metadata": {},
   "outputs": [],
   "source": [
    "callback_signature_2 = (Output('table', 'columns'),\n",
    "                   Output('columns_order', 'data'),\n",
    "                   Output('duplicate_dropdown', 'options'),\n",
    "                   Output('columns_created', 'data'),\n",
    "                   Output('table', 'data'),\n",
    "                   Output('duplicate_dropdown', 'value'),\n",
    "                   Input('duplicate_dropdown', 'value'),\n",
    "                   State('table', 'columns'),\n",
    "                   State('columns_order', 'data'),\n",
    "                   State('columns_created', 'data'))"
   ]
  },
  {
   "cell_type": "code",
   "execution_count": 4,
   "id": "d0f56929",
   "metadata": {},
   "outputs": [],
   "source": [
    "callback_signature_3 = (Output('table', 'data'),\n",
    "                   Input('table', 'data'),\n",
    "                   State('table', 'columns'),)"
   ]
  },
  {
   "cell_type": "code",
   "execution_count": 5,
   "id": "1987f448",
   "metadata": {},
   "outputs": [],
   "source": [
    "def _filter(iterable, class_or_tuples):\n",
    "    return (item for item in iterable if isinstance(item, class_or_tuples))\n",
    "\n",
    "\n",
    "class ProxyCallbackItem:\n",
    "    def __init__(self, args, fun):\n",
    "        self.function = fun\n",
    "        self.output_ids = []\n",
    "        self.input_ids = []\n",
    "        self.state_ids = []\n",
    "        self.signature = [str(arg) for arg in args if isinstance(arg, (Output, Input, State))]\n",
    "        if len(self.signature) != len(args):\n",
    "            raise ValueError(f\"Expected one of Output, Input or State, got {args}\")\n",
    "            \n",
    "        for arg in args:\n",
    "            if isinstance(arg, Output):\n",
    "                self.output_ids.append(str(arg))\n",
    "            elif isinstance(arg, Input):\n",
    "                self.input_ids.append(str(arg))\n",
    "            elif isinstance(arg, State):\n",
    "                self.state_ids.append(str(arg))                "
   ]
  },
  {
   "cell_type": "code",
   "execution_count": 6,
   "id": "00200bea",
   "metadata": {},
   "outputs": [],
   "source": [
    "from collections import namedtuple\n",
    "\n",
    "\n",
    "class ProxyCallback:\n",
    "    def __init__(self, ):\n",
    "        self._callbacks = []\n",
    "        self._ids = dict()\n",
    "    \n",
    "    def register(self, *args):\n",
    "        def wrapper(fun):\n",
    "            item = ProxyCallbackItem(args, fun)\n",
    "            self._callbacks.append(item)\n",
    "            for arg in args:\n",
    "                self._ids[str(arg)] = arg\n",
    "            \n",
    "            return fun\n",
    "        return wrapper\n",
    "    \n",
    "    def compile(self, app):\n",
    "        # in the example, all callback targets partially or all the same outputs\n",
    "        # make one big callback\n",
    "        # it takes every inputs, states, outputs as input\n",
    "        \n",
    "        outputs = _filter(self._ids, Output)\n",
    "        inputs = _filter(self._ids, (Input, State))\n",
    "        \n",
    "        Result = namedtuple('result', outputs.keys(), defaults=(no_update,) * len(outputs.keys()))\n",
    "        \n",
    "        @app.callback(*outputs,\n",
    "                      *inputs)\n",
    "        def _(*args):\n",
    "            # argument are mapped as dict\n",
    "            arg_as_dict = {str(item): arg for arg, item in zip(args, inputs)}\n",
    "            for callback in self._callbacks:\n",
    "                # Trigger the callback according to context\n",
    "                if context in callback.input_ids:\n",
    "                    input_args = (arg_as_dict[input_id] \n",
    "                                  for input_id in _filter(callback.signature, (Input, State)))\n",
    "                    result = callback.function(input_args)\n",
    "                    outputs_args = dict(zip(_filter(callback.signature, Output), result))\n",
    "                    result = Result(**outputs_args)\n",
    "                    return result"
   ]
  },
  {
   "cell_type": "code",
   "execution_count": 7,
   "id": "22c38169",
   "metadata": {},
   "outputs": [],
   "source": [
    "proxy = ProxyCallback()\n",
    "@proxy.register(*callback_signature_1)\n",
    "def func():\n",
    "    print('fun')\n",
    "\n",
    "@proxy.register(*callback_signature_2)\n",
    "def foo():\n",
    "    print('foo')\n",
    "\n",
    "@proxy.register(*callback_signature_3)\n",
    "def bar():\n",
    "    print('bar')"
   ]
  },
  {
   "cell_type": "code",
   "execution_count": 8,
   "id": "e55bcb1d",
   "metadata": {},
   "outputs": [
    {
     "data": {
      "text/plain": [
       "{'table.columns': <State `table.columns`>,\n",
       " 'columns_order.data': <State `columns_order.data`>,\n",
       " 'duplicate_dropdown.options': <Output `duplicate_dropdown.options`>,\n",
       " 'columns_created.data': <State `columns_created.data`>,\n",
       " 'table.data': <Input `table.data`>,\n",
       " 'add_column_button.n_clicks': <Input `add_column_button.n_clicks`>,\n",
       " 'duplicate_dropdown.value': <Input `duplicate_dropdown.value`>}"
      ]
     },
     "execution_count": 8,
     "metadata": {},
     "output_type": "execute_result"
    }
   ],
   "source": [
    "proxy._ids"
   ]
  },
  {
   "cell_type": "code",
   "execution_count": null,
   "id": "0df712b6",
   "metadata": {},
   "outputs": [],
   "source": [
    "from dash import Dash\n",
    "app = Dash()\n",
    "proxy.compile(app)"
   ]
  },
  {
   "cell_type": "code",
   "execution_count": null,
   "id": "932f8435",
   "metadata": {},
   "outputs": [],
   "source": [
    "app.callback_map"
   ]
  },
  {
   "cell_type": "code",
   "execution_count": null,
   "id": "ea0f25ff",
   "metadata": {},
   "outputs": [],
   "source": []
  },
  {
   "cell_type": "code",
   "execution_count": null,
   "id": "577ca072",
   "metadata": {},
   "outputs": [],
   "source": [
    "from random import randint, random, shuffle\n",
    "import pandas as pd\n",
    "\n",
    "gen = lambda: randint(1, 50) if random() < 0.6 else None\n",
    "columns = ['name' if n == 0 else f'col_{n}' for n in range(3)]\n",
    "data = [{c: f'name_{n+1}' if c == 'name' else gen() for c in columns} for n in range(20)]\n",
    "shuffle(data)\n",
    "row_order = [f'name_{n+1}' for n in range(20)]"
   ]
  },
  {
   "cell_type": "code",
   "execution_count": null,
   "id": "7fadc2aa",
   "metadata": {},
   "outputs": [],
   "source": [
    "def sort(records, row_order):\n",
    "    dict_of_records = {row['name']: row for row in data}\n",
    "    return [dict_of_records[row_id] for row_id in row_order]"
   ]
  },
  {
   "cell_type": "code",
   "execution_count": null,
   "id": "11e263ea",
   "metadata": {},
   "outputs": [],
   "source": []
  }
 ],
 "metadata": {
  "kernelspec": {
   "display_name": "Python 3 (ipykernel)",
   "language": "python",
   "name": "python3"
  },
  "language_info": {
   "codemirror_mode": {
    "name": "ipython",
    "version": 3
   },
   "file_extension": ".py",
   "mimetype": "text/x-python",
   "name": "python",
   "nbconvert_exporter": "python",
   "pygments_lexer": "ipython3",
   "version": "3.10.8"
  }
 },
 "nbformat": 4,
 "nbformat_minor": 5
}
